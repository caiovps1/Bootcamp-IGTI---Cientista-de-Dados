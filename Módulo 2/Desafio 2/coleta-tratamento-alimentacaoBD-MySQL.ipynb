{
 "cells": [
  {
   "cell_type": "markdown",
   "metadata": {},
   "source": [
    "## Preparação do banco de dados MySQL"
   ]
  },
  {
   "cell_type": "markdown",
   "metadata": {},
   "source": [
    "### Coleta e tratamento dos dados\n",
    "\n",
    "Neste primeiro passo do desafio, temos que realizar uma coleta de dados por uma API fornecida pela IGTI.\n",
    "\n",
    "A URL para se realizar a coleta é: https://api-coleta-dados.herokuapp.com/api/pessoas."
   ]
  },
  {
   "cell_type": "code",
   "execution_count": 166,
   "metadata": {},
   "outputs": [],
   "source": [
    "import json\n",
    "import requests"
   ]
  },
  {
   "cell_type": "code",
   "execution_count": 167,
   "metadata": {},
   "outputs": [],
   "source": [
    "#Requisitando os dados da API\n",
    "url = \"https://api-coleta-dados.herokuapp.com/api/pessoas\"\n",
    "response = requests.get(url)"
   ]
  },
  {
   "cell_type": "code",
   "execution_count": 168,
   "metadata": {},
   "outputs": [
    {
     "data": {
      "text/plain": [
       "200"
      ]
     },
     "execution_count": 168,
     "metadata": {},
     "output_type": "execute_result"
    }
   ],
   "source": [
    "#Status da requisição. 200: sucesso.\n",
    "response.status_code"
   ]
  },
  {
   "cell_type": "code",
   "execution_count": 169,
   "metadata": {},
   "outputs": [
    {
     "name": "stdout",
     "output_type": "stream",
     "text": [
      "<class 'bytes'>\n"
     ]
    }
   ],
   "source": [
    "#Checando o tipo de dados do conteúdo requisitado\n",
    "print(type(response.content))"
   ]
  },
  {
   "cell_type": "code",
   "execution_count": 170,
   "metadata": {},
   "outputs": [
    {
     "name": "stdout",
     "output_type": "stream",
     "text": [
      "<class 'list'>\n"
     ]
    }
   ],
   "source": [
    "#Convertendo os dados de conteúdo para JSON\n",
    "dados = json.loads(response.content) #serializando e transformando em JSON\n",
    "print(type(dados))"
   ]
  },
  {
   "cell_type": "code",
   "execution_count": 171,
   "metadata": {},
   "outputs": [
    {
     "data": {
      "text/plain": [
       "[{'nome': 'Silvana Hadassa',\n",
       "  'idade': None,\n",
       "  'data_nasc': '12/06/1964',\n",
       "  'sexo': 'Feminino',\n",
       "  'signo': 'Gêmeos',\n",
       "  'cidade': 'Brasília',\n",
       "  'estado': 'DF',\n",
       "  'altura': '1,67',\n",
       "  'peso': 50,\n",
       "  'tipo_sanguineo': 'A+',\n",
       "  'cor': 'vermelho'},\n",
       " {'nome': 'Thales Kaique',\n",
       "  'idade': 27,\n",
       "  'data_nasc': '10/12/1993',\n",
       "  'sexo': 'Masculino',\n",
       "  'signo': 'Sagitário',\n",
       "  'cidade': 'Campo Grande',\n",
       "  'estado': 'MS',\n",
       "  'altura': '1,63',\n",
       "  'peso': 110,\n",
       "  'tipo_sanguineo': 'B+',\n",
       "  'cor': 'laranja'},\n",
       " {'nome': 'Henry Nathan',\n",
       "  'idade': 29,\n",
       "  'data_nasc': '21/09/1991',\n",
       "  'sexo': 'Masculino',\n",
       "  'signo': 'Virgem',\n",
       "  'cidade': 'Macapá',\n",
       "  'estado': 'AP',\n",
       "  'altura': '1,86',\n",
       "  'peso': 106,\n",
       "  'tipo_sanguineo': 'AB-',\n",
       "  'cor': 'verde'},\n",
       " {'nome': 'Lorenzo Vinicius',\n",
       "  'idade': 64,\n",
       "  'data_nasc': '22/10/1956',\n",
       "  'sexo': 'Masculino',\n",
       "  'signo': 'Libra',\n",
       "  'cidade': 'Contagem',\n",
       "  'estado': 'MG',\n",
       "  'altura': '1,87',\n",
       "  'peso': 100,\n",
       "  'tipo_sanguineo': 'O+',\n",
       "  'cor': 'vermelho'},\n",
       " {'nome': 'Cauã Henrique',\n",
       "  'idade': 50,\n",
       "  'data_nasc': '09/03',\n",
       "  'sexo': 'Masculino',\n",
       "  'signo': 'Peixes',\n",
       "  'cidade': 'Rondonópolis',\n",
       "  'estado': 'MT',\n",
       "  'altura': '1,74',\n",
       "  'peso': 83,\n",
       "  'tipo_sanguineo': 'O-',\n",
       "  'cor': 'vermelho'}]"
      ]
     },
     "execution_count": 171,
     "metadata": {},
     "output_type": "execute_result"
    }
   ],
   "source": [
    "#Visualizando os cinco primeiros registros da lista de dados\n",
    "#Vemos que os dados estão em forma de lista de dicionários\n",
    "dados[:5]"
   ]
  },
  {
   "cell_type": "markdown",
   "metadata": {},
   "source": [
    "#### Tratamento de dados\n",
    "Foram solicitados o preenchimento do campo `'idade'` quando este estiver nulo, e o preenchimento do ano de nascimento quando este estiver ausente no campo `'data_nasc'`.\n",
    "Para tais tratamentos, consideraremos a data atual como sendo **20/12/2020**, que é a data de entrega do presente Desafio."
   ]
  },
  {
   "cell_type": "code",
   "execution_count": 172,
   "metadata": {},
   "outputs": [],
   "source": [
    "#Preenchendo o campo 'idade', quando nulo\n",
    "for pessoa in dados:\n",
    "    if pessoa['idade'] is None:\n",
    "        dia_nasc = int(pessoa['data_nasc'][:2])\n",
    "        mes_nasc = int(pessoa['data_nasc'][3:5])\n",
    "        ano_nasc = int(pessoa['data_nasc'][6:])\n",
    "        idade = 2020-ano_nasc\n",
    "        if (mes_nasc == 12) and (dia_nasc > 20):\n",
    "            idade -= 1\n",
    "        pessoa['idade'] = idade"
   ]
  },
  {
   "cell_type": "code",
   "execution_count": 173,
   "metadata": {},
   "outputs": [],
   "source": [
    "#Preenchendo o ano de nascimento no campo 'data_nasc', quando ausente\n",
    "for pessoa in dados:\n",
    "    if len(pessoa['data_nasc']) < 10:\n",
    "        dia_nasc = int(pessoa['data_nasc'][:2])\n",
    "        mes_nasc = int(pessoa['data_nasc'][3:5])\n",
    "        idade = pessoa['idade']\n",
    "        ano_nasc = 2020-idade\n",
    "        if (mes_nasc == 12) and (dia_nasc > 20):\n",
    "            ano_nasc -= 1\n",
    "        string = '/%s'%ano_nasc\n",
    "        pessoa['data_nasc'] += string"
   ]
  },
  {
   "cell_type": "code",
   "execution_count": 174,
   "metadata": {},
   "outputs": [
    {
     "data": {
      "text/plain": [
       "[{'nome': 'Silvana Hadassa',\n",
       "  'idade': 56,\n",
       "  'data_nasc': '12/06/1964',\n",
       "  'sexo': 'Feminino',\n",
       "  'signo': 'Gêmeos',\n",
       "  'cidade': 'Brasília',\n",
       "  'estado': 'DF',\n",
       "  'altura': '1,67',\n",
       "  'peso': 50,\n",
       "  'tipo_sanguineo': 'A+',\n",
       "  'cor': 'vermelho'},\n",
       " {'nome': 'Thales Kaique',\n",
       "  'idade': 27,\n",
       "  'data_nasc': '10/12/1993',\n",
       "  'sexo': 'Masculino',\n",
       "  'signo': 'Sagitário',\n",
       "  'cidade': 'Campo Grande',\n",
       "  'estado': 'MS',\n",
       "  'altura': '1,63',\n",
       "  'peso': 110,\n",
       "  'tipo_sanguineo': 'B+',\n",
       "  'cor': 'laranja'},\n",
       " {'nome': 'Henry Nathan',\n",
       "  'idade': 29,\n",
       "  'data_nasc': '21/09/1991',\n",
       "  'sexo': 'Masculino',\n",
       "  'signo': 'Virgem',\n",
       "  'cidade': 'Macapá',\n",
       "  'estado': 'AP',\n",
       "  'altura': '1,86',\n",
       "  'peso': 106,\n",
       "  'tipo_sanguineo': 'AB-',\n",
       "  'cor': 'verde'},\n",
       " {'nome': 'Lorenzo Vinicius',\n",
       "  'idade': 64,\n",
       "  'data_nasc': '22/10/1956',\n",
       "  'sexo': 'Masculino',\n",
       "  'signo': 'Libra',\n",
       "  'cidade': 'Contagem',\n",
       "  'estado': 'MG',\n",
       "  'altura': '1,87',\n",
       "  'peso': 100,\n",
       "  'tipo_sanguineo': 'O+',\n",
       "  'cor': 'vermelho'},\n",
       " {'nome': 'Cauã Henrique',\n",
       "  'idade': 50,\n",
       "  'data_nasc': '09/03/1970',\n",
       "  'sexo': 'Masculino',\n",
       "  'signo': 'Peixes',\n",
       "  'cidade': 'Rondonópolis',\n",
       "  'estado': 'MT',\n",
       "  'altura': '1,74',\n",
       "  'peso': 83,\n",
       "  'tipo_sanguineo': 'O-',\n",
       "  'cor': 'vermelho'}]"
      ]
     },
     "execution_count": 174,
     "metadata": {},
     "output_type": "execute_result"
    }
   ],
   "source": [
    "dados[:5]"
   ]
  },
  {
   "cell_type": "markdown",
   "metadata": {},
   "source": [
    "### Alimentação do *database* MySQL `db_desafio`\n",
    "\n",
    "Os dados coletados na API disponibilizada serão alimentados ao *database* `db_desafio` (query para criação em `criacao_db_desafio_MySQL.sql`).\n",
    "\n",
    "O **EER** deste banco de dados é:\n",
    "<img src='der.png'>"
   ]
  },
  {
   "cell_type": "code",
   "execution_count": 175,
   "metadata": {},
   "outputs": [],
   "source": [
    "#Importando a biblioteca mysql.connector e datetime\n",
    "import mysql.connector\n",
    "from datetime import datetime"
   ]
  },
  {
   "cell_type": "code",
   "execution_count": 176,
   "metadata": {},
   "outputs": [],
   "source": [
    "#Conectando-se ao banco de dados\n",
    "mydb = mysql.connector.connect(\n",
    "    host='localhost',\n",
    "    user='root',\n",
    "    password='igti',\n",
    "    database='db_desafio')\n",
    "\n",
    "mycursor = mydb.cursor()"
   ]
  },
  {
   "cell_type": "code",
   "execution_count": 177,
   "metadata": {},
   "outputs": [],
   "source": [
    "#Inserir dados na tabela tb_cor\n",
    "for pessoa in dados:\n",
    "    cor = pessoa['cor']\n",
    "\n",
    "    query = \"INSERT INTO tb_cor (cor) SELECT * FROM (SELECT '{}') AS tmp \".format(cor)\n",
    "    query += \"WHERE NOT EXISTS (SELECT cor FROM tb_cor WHERE cor = '{}') LIMIT 1\".format(cor)\n",
    "    fquery = query.format(cor, cor)\n",
    "    \n",
    "    mycursor.execute(query) #executando a query\n",
    "    mydb.commit() #confirmando a inserção"
   ]
  },
  {
   "cell_type": "code",
   "execution_count": 178,
   "metadata": {},
   "outputs": [],
   "source": [
    "#Inserir dados na tabela tb_tiposanguineo\n",
    "for pessoa in dados:\n",
    "    tipo_sanguineo = pessoa['tipo_sanguineo']\n",
    "\n",
    "    query = \"INSERT INTO tb_tiposanguineo (tipo) SELECT * FROM (SELECT '{}') AS tmp \".format(tipo_sanguineo)\n",
    "    query += \"WHERE NOT EXISTS (SELECT tipo FROM tb_tiposanguineo WHERE tipo = '{}') LIMIT 1\".format(tipo_sanguineo)\n",
    "    fquery = query.format(tipo_sanguineo, tipo_sanguineo)\n",
    "\n",
    "    mycursor.execute(query) #executando a query\n",
    "    mydb.commit() #confirmando a inserção"
   ]
  },
  {
   "cell_type": "code",
   "execution_count": 179,
   "metadata": {},
   "outputs": [],
   "source": [
    "#Inserir dados na tabela tb_estado\n",
    "for pessoa in dados:\n",
    "    estado = pessoa['estado']\n",
    "\n",
    "    query = \"INSERT INTO tb_estado (sigla) SELECT * FROM (SELECT '{}') AS tmp \"\n",
    "    query += \"WHERE NOT EXISTS (SELECT sigla FROM tb_estado WHERE sigla = '{}') LIMIT 1\"\n",
    "    fquery = query.format(estado, estado)\n",
    "\n",
    "    mycursor.execute(fquery) #executando a query\n",
    "    mydb.commit() #confirmando a inserção"
   ]
  },
  {
   "cell_type": "code",
   "execution_count": 180,
   "metadata": {},
   "outputs": [],
   "source": [
    "#Inserir dados na tabela tb_cidade\n",
    "for pessoa in dados:\n",
    "    cidade = pessoa['cidade']\n",
    "    estado = pessoa['estado']\n",
    "    \n",
    "    query = \"INSERT INTO tb_cidade (nome, id_estado) \"\n",
    "    query += \"SELECT * FROM (SELECT '{}', (SELECT id FROM tb_estado WHERE sigla = '{}')) AS tmp \"\n",
    "    query += \"WHERE NOT EXISTS (SELECT nome FROM tb_cidade WHERE nome = '{}') LIMIT 1\"\n",
    "    fquery = query.format(cidade, estado, cidade)\n",
    "\n",
    "    mycursor.execute(fquery) #executando a query\n",
    "    mydb.commit() #confirmando a inserção"
   ]
  },
  {
   "cell_type": "code",
   "execution_count": 181,
   "metadata": {},
   "outputs": [],
   "source": [
    "#Inserir dados na tabela tb_pessoa\n",
    "for pessoa in dados:\n",
    "    nome = pessoa['nome']\n",
    "    idade = int(pessoa['idade'])\n",
    "    data_nasc = pessoa['data_nasc']\n",
    "    sexo = pessoa['sexo'][0:1]\n",
    "    signo = pessoa['signo']\n",
    "    altura = pessoa['altura'].replace(',', '.')\n",
    "    peso = pessoa['peso']\n",
    "    cidade = pessoa['cidade']\n",
    "    cor = pessoa['cor']\n",
    "    tipo_sanguineo = pessoa['tipo_sanguineo']\n",
    "    \n",
    "    query = \"INSERT INTO tb_pessoa (nome, idade, data_nasc, sexo, signo, altura, peso, id_cidade, id_cor, id_tiposanguineo) \"\n",
    "    query += \"VALUES ('{}', '{}', str_to_date('{}','%d/%m/%Y'), '{}', '{}', '{}', '{}', \"\n",
    "    query += \"(SELECT id FROM tb_cidade WHERE nome = '{}'), (SELECT id FROM tb_cor WHERE cor = '{}'), \"\n",
    "    query += \"(SELECT id FROM tb_tiposanguineo WHERE tipo = '{}'))\"\n",
    "    fquery = query.format(nome, idade, data_nasc, sexo, signo, altura, peso, cidade, cor, tipo_sanguineo)\n",
    "\n",
    "    mycursor.execute(fquery) #executando a query\n",
    "    mydb.commit() #confirmando a inserção"
   ]
  },
  {
   "cell_type": "code",
   "execution_count": 182,
   "metadata": {},
   "outputs": [],
   "source": [
    "#Encerrando o cursor e a conexão\n",
    "mycursor.close()\n",
    "mydb.close()"
   ]
  }
 ],
 "metadata": {
  "kernelspec": {
   "display_name": "Python 3.8.3 64-bit ('caiov': virtualenv)",
   "language": "python",
   "name": "python38364bitcaiovvirtualenv295ca060cc914d599924dc889d47fa21"
  },
  "language_info": {
   "codemirror_mode": {
    "name": "ipython",
    "version": 3
   },
   "file_extension": ".py",
   "mimetype": "text/x-python",
   "name": "python",
   "nbconvert_exporter": "python",
   "pygments_lexer": "ipython3",
   "version": "3.8.5"
  }
 },
 "nbformat": 4,
 "nbformat_minor": 4
}
