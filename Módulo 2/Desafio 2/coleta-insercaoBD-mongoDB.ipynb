{
 "cells": [
  {
   "cell_type": "markdown",
   "metadata": {},
   "source": [
    "## Inserção de dados no *database* do MongoDB\n",
    "\n",
    "Nesta fase do desafio, iremos incluir os dados do arquivo `videogame_sales_mongo.json` em um *database* do MongoDB. O *database* utilizado é o `igti`, e a coleção é a `desafio2_videogame`."
   ]
  },
  {
   "cell_type": "code",
   "execution_count": 1,
   "metadata": {},
   "outputs": [],
   "source": [
    "import json\n",
    "import pymongo"
   ]
  },
  {
   "cell_type": "code",
   "execution_count": 2,
   "metadata": {},
   "outputs": [],
   "source": [
    "#Importando o arquivo .json para o notebook\n",
    "filename = 'videogame_sales_mongo.json'\n",
    "with open(filename, encoding='utf8') as f:\n",
    "    data_json_list = json.load(f)\n",
    "    \n",
    "from bson.json_util import loads, dumps\n",
    "data_json_str = dumps(data_json_list)\n",
    "data = loads(data_json_str) #é uma lista bson"
   ]
  },
  {
   "cell_type": "code",
   "execution_count": 3,
   "metadata": {},
   "outputs": [],
   "source": [
    "#Conexão ao banco de dados\n",
    "con = pymongo.MongoClient('localhost', 27017)\n",
    "\n",
    "#Seleciona o banco de dados\n",
    "db = con.igti\n",
    "\n",
    "#Seleciona a coleção\n",
    "collection = db.desafio2_videogame"
   ]
  },
  {
   "cell_type": "code",
   "execution_count": 4,
   "metadata": {},
   "outputs": [
    {
     "data": {
      "text/plain": [
       "<pymongo.results.InsertManyResult at 0x2892e136900>"
      ]
     },
     "execution_count": 4,
     "metadata": {},
     "output_type": "execute_result"
    }
   ],
   "source": [
    "#Incluindo o arquivo de dados na coleção 'desafio2_videogame', do banco de dados 'igti'\n",
    "collection.insert_many(data)"
   ]
  },
  {
   "cell_type": "code",
   "execution_count": 5,
   "metadata": {},
   "outputs": [],
   "source": [
    "#Finalizando a conexão\n",
    "con.close()"
   ]
  }
 ],
 "metadata": {
  "kernelspec": {
   "display_name": "Python 3.8.3 64-bit ('caiov': virtualenv)",
   "language": "python",
   "name": "python38364bitcaiovvirtualenv295ca060cc914d599924dc889d47fa21"
  },
  "language_info": {
   "codemirror_mode": {
    "name": "ipython",
    "version": 3
   },
   "file_extension": ".py",
   "mimetype": "text/x-python",
   "name": "python",
   "nbconvert_exporter": "python",
   "pygments_lexer": "ipython3",
   "version": "3.8.5"
  }
 },
 "nbformat": 4,
 "nbformat_minor": 4
}
