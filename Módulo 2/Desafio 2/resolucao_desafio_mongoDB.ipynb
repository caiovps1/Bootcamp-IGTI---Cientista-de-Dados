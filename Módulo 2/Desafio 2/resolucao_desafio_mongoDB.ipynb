{
 "cells": [
  {
   "cell_type": "code",
   "execution_count": 65,
   "metadata": {},
   "outputs": [],
   "source": [
    "import pymongo"
   ]
  },
  {
   "cell_type": "code",
   "execution_count": 66,
   "metadata": {},
   "outputs": [],
   "source": [
    "#Conexão ao banco de dados\n",
    "con = pymongo.MongoClient('localhost', 27017)\n",
    "\n",
    "#Seleciona o banco de dados\n",
    "db = con.igti\n",
    "\n",
    "#Seleciona a coleção\n",
    "collection = db.desafio2_videogame"
   ]
  },
  {
   "cell_type": "code",
   "execution_count": 67,
   "metadata": {},
   "outputs": [
    {
     "name": "stdout",
     "output_type": "stream",
     "text": [
      "Resultado 7: Grand Theft Auto: San Andreas\n"
     ]
    }
   ],
   "source": [
    "# Pergunta 7: Qual jogo possui a maior venda global (“Global_Sales”) para a plataforma PS2?\n",
    "\n",
    "query = collection.find({\"Platform\":\"PS2\"}).sort('Global_Sales', -1).limit(1)\n",
    "for result in query:\n",
    "    print(\"Resultado 7: \" + result['Name'])"
   ]
  },
  {
   "cell_type": "code",
   "execution_count": 68,
   "metadata": {},
   "outputs": [
    {
     "name": "stdout",
     "output_type": "stream",
     "text": [
      "Resultado 8: 3\n"
     ]
    }
   ],
   "source": [
    "# Pergunta 8: Qual a posição no Rank global (“Rank”) está o segundo jogo mais vendido na\n",
    "# Europa? Ordenar pelo atributo \"EU_Sales\".\n",
    "\n",
    "query = collection.find({}).sort('EU_Sales', -1).limit(2)\n",
    "count = 0\n",
    "for result in query:\n",
    "    if count == 1:\n",
    "        print(\"Resultado 8: \" + str(result['Rank']))\n",
    "    count += 1"
   ]
  },
  {
   "cell_type": "code",
   "execution_count": 69,
   "metadata": {},
   "outputs": [
    {
     "name": "stdout",
     "output_type": "stream",
     "text": [
      "Resultado 9: Sora no Otoshimono: DokiDoki Summer Vacation\n"
     ]
    }
   ],
   "source": [
    "# Pergunta 9: Qual o nome do jogo que possui a menor venda global (“Global_Sales”) no ano de 2010?\n",
    "\n",
    "query = collection.find({\"Year\":2010}).sort('Global_Sales', 1).limit(1)\n",
    "for result in query:\n",
    "    print(\"Resultado 9: \" + result['Name'])"
   ]
  },
  {
   "cell_type": "code",
   "execution_count": 70,
   "metadata": {},
   "outputs": [
    {
     "name": "stdout",
     "output_type": "stream",
     "text": [
      "Resultado 10: Wii\n"
     ]
    }
   ],
   "source": [
    "# Pergunta 10: Qual a plataforma (“Platform”) do jogo mais vendido considerando as vendas globais \n",
    "# (\"Global_Sales \") no ano de 2008?\n",
    "\n",
    "query = collection.find({\"Year\":2008}).sort('Global_Sales', -1).limit(1)\n",
    "for result in query:\n",
    "    print(\"Resultado 10: \" + result['Platform'])"
   ]
  },
  {
   "cell_type": "code",
   "execution_count": 71,
   "metadata": {},
   "outputs": [
    {
     "name": "stdout",
     "output_type": "stream",
     "text": [
      "Resultado 11: Call of Duty: Black Ops 3\n"
     ]
    }
   ],
   "source": [
    "# Pergunta 11: Qual o nome do jogo que é exibido ao executar o comando para retornar o primeiro \n",
    "# documento da coleção onde a condição seja a plataforma (“Platform”) igual a PS4?\n",
    "\n",
    "query = collection.find_one({\"Platform\":\"PS4\"})\n",
    "print(\"Resultado 11: \" + query['Name'])"
   ]
  },
  {
   "cell_type": "code",
   "execution_count": 72,
   "metadata": {},
   "outputs": [
    {
     "name": "stdout",
     "output_type": "stream",
     "text": [
      "Resultado 12: 1265\n"
     ]
    }
   ],
   "source": [
    "# Pergunta 12: Quantos documentos existem na base de dados referentes à plataforma (“Platform”) “X360”?\n",
    "\n",
    "query = collection.count_documents({\"Platform\":\"X360\"})\n",
    "print(\"Resultado 12: \" + str(query))"
   ]
  },
  {
   "cell_type": "code",
   "execution_count": 73,
   "metadata": {},
   "outputs": [
    {
     "name": "stdout",
     "output_type": "stream",
     "text": [
      "Resultado 13: 3DS\n"
     ]
    }
   ],
   "source": [
    "# Pergunta 13: Qual a plataforma (“Platform”) do jogo mais vendido no Japão (\"JP_Sales\") no ano de 2015?\n",
    "\n",
    "query = collection.find({\"Year\":2015}).sort('JP_Sales', -1).limit(1)\n",
    "for result in query:\n",
    "    print(\"Resultado 13: \" + result['Platform'])"
   ]
  },
  {
   "cell_type": "code",
   "execution_count": 74,
   "metadata": {},
   "outputs": [
    {
     "name": "stdout",
     "output_type": "stream",
     "text": [
      "Resultado 14: 1607\n"
     ]
    }
   ],
   "source": [
    "# Pergunta 14: Em que posição do “Rank” o jogo “The Witcher 3: Wild Hunt” está considerando a plataforma “XOne”?\n",
    "\n",
    "query = collection.find({\"Name\":\"The Witcher 3: Wild Hunt\", \"Platform\":\"XOne\"})\n",
    "for result in query:\n",
    "    print(\"Resultado 14: \" + str(result['Rank']))"
   ]
  },
  {
   "cell_type": "code",
   "execution_count": 75,
   "metadata": {},
   "outputs": [
    {
     "name": "stdout",
     "output_type": "stream",
     "text": [
      "Resultado 15: 851\n"
     ]
    }
   ],
   "source": [
    "# Pergunta 15: Quantos documentos são retornados ao executar uma consulta em que o atributo\n",
    "# “Global_Sales” seja maior ou igual a 2?\n",
    "\n",
    "query = collection.count_documents({\"Global_Sales\":{\"$gte\":2}})\n",
    "print(\"Resultado 15: \" + str(query))"
   ]
  },
  {
   "cell_type": "code",
   "execution_count": 76,
   "metadata": {},
   "outputs": [],
   "source": [
    "con.close()"
   ]
  }
 ],
 "metadata": {
  "kernelspec": {
   "display_name": "Python 3.8.3 64-bit ('caiov': virtualenv)",
   "language": "python",
   "name": "python38364bitcaiovvirtualenv295ca060cc914d599924dc889d47fa21"
  },
  "language_info": {
   "codemirror_mode": {
    "name": "ipython",
    "version": 3
   },
   "file_extension": ".py",
   "mimetype": "text/x-python",
   "name": "python",
   "nbconvert_exporter": "python",
   "pygments_lexer": "ipython3",
   "version": "3.8.5"
  }
 },
 "nbformat": 4,
 "nbformat_minor": 4
}
