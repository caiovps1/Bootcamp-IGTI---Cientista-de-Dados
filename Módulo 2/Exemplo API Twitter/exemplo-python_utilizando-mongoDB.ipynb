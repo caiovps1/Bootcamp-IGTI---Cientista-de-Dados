{
 "cells": [
  {
   "cell_type": "markdown",
   "metadata": {},
   "source": [
    "### Exemplo de utilização da API do Twitter e utilização do MongoDB\n",
    "### Análise de polaridade"
   ]
  },
  {
   "cell_type": "code",
   "execution_count": 21,
   "metadata": {},
   "outputs": [],
   "source": [
    "import tweepy #instalado utilizando conda install -c conda-forge tweepy\n",
    "from textblob import TextBlob as tb #instalado utilizando conda install -c conda-forge textblob\n",
    "import json\n",
    "import numpy as np\n",
    "import pymongo #instalado utilizando conda install -c anaconda pymongo"
   ]
  },
  {
   "cell_type": "code",
   "execution_count": 2,
   "metadata": {},
   "outputs": [],
   "source": [
    "#Credenciais\n",
    "app_name = \"aula_igti\"\n",
    "api_key = \"por chave aqui\"\n",
    "api_secret_key = \"por chave aqui\"\n",
    "access_token = \"por chave aqui\"\n",
    "access_token_secret = \"por chave aqui\""
   ]
  },
  {
   "cell_type": "code",
   "execution_count": 3,
   "metadata": {},
   "outputs": [],
   "source": [
    "#Autenticação na API utilizando as credenciais\n",
    "auth = tweepy.OAuthHandler(api_key, api_secret_key)\n",
    "auth.set_access_token(access_token, access_token_secret)\n",
    "token = tweepy.API(auth)"
   ]
  },
  {
   "cell_type": "markdown",
   "metadata": {},
   "source": [
    "#### Busca por palavra-chave"
   ]
  },
  {
   "cell_type": "code",
   "execution_count": 4,
   "metadata": {},
   "outputs": [],
   "source": [
    "#Determinando as palavras-chaves a serem procuradas\n",
    "keyword = (\"covid OR covid-19 OR covid19 OR corona OR coronavirus\")"
   ]
  },
  {
   "cell_type": "code",
   "execution_count": 5,
   "metadata": {},
   "outputs": [],
   "source": [
    "#Realizando a busca dos tweets\n",
    "tweets = token.search(q=keyword, count=10, result_type='mixed', tweet_mode='extended')"
   ]
  },
  {
   "cell_type": "code",
   "execution_count": 6,
   "metadata": {},
   "outputs": [
    {
     "name": "stdout",
     "output_type": "stream",
     "text": [
      "Total de tweets coletados: 10\n"
     ]
    }
   ],
   "source": [
    "#Checando a quantidade de tweets coletados\n",
    "print(\"Total de tweets coletados: %s\" %(len(tweets)))"
   ]
  },
  {
   "cell_type": "code",
   "execution_count": 9,
   "metadata": {},
   "outputs": [
    {
     "name": "stdout",
     "output_type": "stream",
     "text": [
      "Usuário: {'petemuntean'}\n",
      "Tweet: {'Breaking - UPS and FedEx trucks carrying the first U.S. shipment of coronavirus vaccine have left Pfizer’s facility near Kalamazoo, Michigan. https://t.co/Cf32ki9gCF'}\n",
      "Usuário: {'joncoopertweets'}\n",
      "Tweet: {'Who else is outraged that high-ranking White House officials, who spent months refusing to wear masks and long supported Trump’s claims that Covid-19 is a hoax, will be among the first to get vaccinations — BEFORE nearly all high-risk health care workers &amp; nursing home residents?'}\n",
      "Usuário: {'bowertttt'}\n",
      "Tweet: {'RT @lifeofthornpi: ระดมทุน 500 บาท 1 ล้านคน เพื่อพัฒนาวัคซีน covid คือแบบ เฮ้อ กุต้องบริจาคอีกกี่ครั้ง แล้วภาษีที่จ่ายเอาไปทำหอกอะไร'}\n",
      "Usuário: {'raffo20'}\n",
      "Tweet: {'RT @MatLabPer: #coronavirus #COVID19 #COVIDー19 #Covid_19 #COVID #vacuna #Vacunas #vacunacion #segundaola #PeruEstaEnNuestrasManos #perutequ…'}\n",
      "Usuário: {'i_am_leticia'}\n",
      "Tweet: {\"RT @bodinholoiro: 'o impeachment tiraria o foco do covid'\\ncreio que o covid não iria se aborrecer\"}\n",
      "Usuário: {'AdrianaTorresH0'}\n",
      "Tweet: {'RT @ChilangoCom: #ÚLTIMAHORA este es el saldo hasta el momento de casos de\\xa0#COVID19\\xa0en México:\\xa0 \\xa0\\n\\n1,255,974 confirmados\\xa0\\xa0\\xa0\\n114,298 defunci…'}\n",
      "Usuário: {'KaJa80028344'}\n",
      "Tweet: {'RT @Aeskulappirat: Manchen Zeitgenossen muss man es eben kindgerecht erklären.\\n\\n#Covidioten 🤪 #Coronazis #Solidaritaetsverweigerer #WearAMa…'}\n",
      "Usuário: {'HelioChapuseaux'}\n",
      "Tweet: {'RT @ksorbs: President Trump administered the first covid vaccine, NOT Biden. \\nThe media will try to tell you otherwise'}\n",
      "Usuário: {'Humblegummmm'}\n",
      "Tweet: {'@tahun2049 Corona wes temu vaksine, lek mari porane ora eroh wkwkwk'}\n",
      "Usuário: {'uriijeanyeong'}\n",
      "Tweet: {'RT @VisualsAnimes: Only solution to the coronavirus https://t.co/235T7eYZdT'}\n"
     ]
    }
   ],
   "source": [
    "#Imprimindo os tweets\n",
    "for tweet in tweets:\n",
    "    print(\"Usuário: %s\" %{tweet.user.screen_name})\n",
    "    print(\"Tweet: %s\" %{tweet.full_text}) #tweet.text, caso o tweet_mode não seja extended"
   ]
  },
  {
   "cell_type": "markdown",
   "metadata": {},
   "source": [
    "#### Análise de polaridade\n",
    "\n",
    "Para realizar a **análise de polaridade**, utilizaremos a função *sentiment.polarity*, do pacote *Textblob*.\n",
    "\n",
    "- A função retornará um valor entre -1 e 1, onde quanto maior o valor retornado, menos \"chateada\" a pessoa está, ou seja, mais positivo é o *tweet*;\n",
    "- A polaridade 0 indica neutralidade do *tweet*."
   ]
  },
  {
   "cell_type": "code",
   "execution_count": 10,
   "metadata": {},
   "outputs": [],
   "source": [
    "analysis = None #irá armazenar as polaridades\n",
    "tweets_score = [] #irá armazenar os scores"
   ]
  },
  {
   "cell_type": "code",
   "execution_count": 11,
   "metadata": {},
   "outputs": [
    {
     "name": "stdout",
     "output_type": "stream",
     "text": [
      "** Breaking - UPS and FedEx trucks carrying the first U.S. shipment of coronavirus vaccine have left Pfizer’s facility near Kalamazoo, Michigan. https://t.co/Cf32ki9gCF\n",
      "** Who else is outraged that high-ranking White House officials, who spent months refusing to wear masks and long supported Trump’s claims that Covid-19 is a hoax, will be among the first to get vaccinations — BEFORE nearly all high-risk health care workers &amp; nursing home residents?\n",
      "** RT @lifeofthornpi: ระดมทุน 500 บาท 1 ล้านคน เพื่อพัฒนาวัคซีน covid คือแบบ เฮ้อ กุต้องบริจาคอีกกี่ครั้ง แล้วภาษีที่จ่ายเอาไปทำหอกอะไร\n",
      "** RT @MatLabPer: #coronavirus #COVID19 #COVIDー19 #Covid_19 #COVID #vacuna #Vacunas #vacunacion #segundaola #PeruEstaEnNuestrasManos #perutequ…\n",
      "** RT @bodinholoiro: 'o impeachment tiraria o foco do covid'\n",
      "creio que o covid não iria se aborrecer\n",
      "** RT @ChilangoCom: #ÚLTIMAHORA este es el saldo hasta el momento de casos de #COVID19 en México:   \n",
      "\n",
      "1,255,974 confirmados   \n",
      "114,298 defunci…\n",
      "** RT @Aeskulappirat: Manchen Zeitgenossen muss man es eben kindgerecht erklären.\n",
      "\n",
      "#Covidioten 🤪 #Coronazis #Solidaritaetsverweigerer #WearAMa…\n",
      "** RT @ksorbs: President Trump administered the first covid vaccine, NOT Biden. \n",
      "The media will try to tell you otherwise\n",
      "** @tahun2049 Corona wes temu vaksine, lek mari porane ora eroh wkwkwk\n",
      "** RT @VisualsAnimes: Only solution to the coronavirus https://t.co/235T7eYZdT\n"
     ]
    }
   ],
   "source": [
    "for tweet in tweets:\n",
    "    print(\"**\", tweet.full_text)\n",
    "    analysis = tb(tweet.full_text)\n",
    "    polarity = analysis.sentiment.polarity\n",
    "    tweets_score.append(polarity)"
   ]
  },
  {
   "cell_type": "code",
   "execution_count": 12,
   "metadata": {},
   "outputs": [
    {
     "name": "stdout",
     "output_type": "stream",
     "text": [
      "Vetor de Polaridade:  [0.11666666666666665, -0.11666666666666668, 0.0, 0.0, 0.0, 0.0, 0.0, 0.25, 0.0, 0.0]\n"
     ]
    }
   ],
   "source": [
    "print(\"Vetor de Polaridade: \", tweets_score)"
   ]
  },
  {
   "cell_type": "code",
   "execution_count": 13,
   "metadata": {},
   "outputs": [
    {
     "name": "stdout",
     "output_type": "stream",
     "text": [
      "Média de Sentimento: 0.024999999999999998\n"
     ]
    }
   ],
   "source": [
    "print(\"Média de Sentimento: \" + str(np.mean(tweets_score)))"
   ]
  },
  {
   "cell_type": "markdown",
   "metadata": {},
   "source": [
    "#### Análise de polaridade para *tweets* que não foram escritos em inglês"
   ]
  },
  {
   "cell_type": "code",
   "execution_count": 15,
   "metadata": {},
   "outputs": [
    {
     "name": "stdout",
     "output_type": "stream",
     "text": [
      "Texto traduzido RT @lifeofthornpi: Raised 500 baht, 1 million people to develop a covid vaccine. And what is the tax paid to make the spear?: \n",
      "Texto traduzido RT @MatLabPer: #coronavirus # COVID19 #COVID ー 19 # Covid_19 #COVID #vacuna #Vacunas #vacunacion #segundaola #PeruEstaEnNuestrasManos # perutequ…: \n",
      "Texto traduzido RT @bodinholoiro: 'impeachment would take the focus off the covid'\n",
      "I believe the covid would not be bored: \n",
      "Texto traduzido RT @ChilangoCom: # LAST HOUR this is the balance so far of # COVID19 cases in Mexico:\n",
      "\n",
      "1,255,974 confirmed\n",
      "114,298 deaths ...: \n",
      "Texto traduzido RT @Aeskulappirat: Some contemporaries have to explain it in a child-friendly manner.\n",
      "\n",
      "#Covidioten 🤪 #Coronazis #Solidarity deniers # WearAMa ...: \n",
      "Texto traduzido @ Tahun2049 Corona wes meet vaccines, let's report ora eroh hahaha: \n"
     ]
    }
   ],
   "source": [
    "polarities = []\n",
    "\n",
    "for tweet in tweets:\n",
    "    analysis = tb(tweet.full_text)\n",
    "    if analysis.detect_language() != 'en':\n",
    "        traducao = tb(str(analysis.translate(to='en')))\n",
    "        print('Texto traduzido %s: ' %traducao)\n",
    "        polarity = traducao.sentiment.polarity\n",
    "    else:\n",
    "        polarity = analysis.sentiment.polarity\n",
    "        \n",
    "    polarities.append(polarity)"
   ]
  },
  {
   "cell_type": "code",
   "execution_count": 18,
   "metadata": {},
   "outputs": [
    {
     "name": "stdout",
     "output_type": "stream",
     "text": [
      "Vetor de polaridade:  [0.11666666666666665, -0.11666666666666668, 0.0, 0.0, -0.5, 0.16666666666666666, 0.0, 0.25, 0.2, 0.0]\n"
     ]
    }
   ],
   "source": [
    "print('Vetor de polaridade: ', polarities)"
   ]
  },
  {
   "cell_type": "code",
   "execution_count": 19,
   "metadata": {},
   "outputs": [
    {
     "name": "stdout",
     "output_type": "stream",
     "text": [
      "Média de Sentimento: 0.011666666666666662\n"
     ]
    }
   ],
   "source": [
    "print(\"Média de Sentimento: \" + str(np.mean(polarities)))"
   ]
  },
  {
   "cell_type": "markdown",
   "metadata": {},
   "source": [
    "#### Armazenando os arquivos coletados"
   ]
  },
  {
   "cell_type": "code",
   "execution_count": 22,
   "metadata": {},
   "outputs": [],
   "source": [
    "status = tweets[0]\n",
    "\n",
    "#converte para string\n",
    "json_str = json.dumps(status._json)\n",
    "\n",
    "#deserialise string para um objeto python\n",
    "parsed = json.loads(json_str)"
   ]
  },
  {
   "cell_type": "code",
   "execution_count": 23,
   "metadata": {},
   "outputs": [
    {
     "data": {
      "text/plain": [
       "tweepy.models.SearchResults"
      ]
     },
     "execution_count": 23,
     "metadata": {},
     "output_type": "execute_result"
    }
   ],
   "source": [
    "type(tweets)"
   ]
  },
  {
   "cell_type": "code",
   "execution_count": 24,
   "metadata": {},
   "outputs": [
    {
     "data": {
      "text/plain": [
       "str"
      ]
     },
     "execution_count": 24,
     "metadata": {},
     "output_type": "execute_result"
    }
   ],
   "source": [
    "type(json_str)"
   ]
  },
  {
   "cell_type": "code",
   "execution_count": 25,
   "metadata": {},
   "outputs": [
    {
     "data": {
      "text/plain": [
       "dict"
      ]
     },
     "execution_count": 25,
     "metadata": {},
     "output_type": "execute_result"
    }
   ],
   "source": [
    "type(parsed)"
   ]
  },
  {
   "cell_type": "code",
   "execution_count": 27,
   "metadata": {},
   "outputs": [],
   "source": [
    "datasetPath = r\"C:\\Users\\caiov\\Documents\\_Profissional\\Data Science\\bootcamp-igti---cientista-de-dados\\Módulo 2\\Exemplos Aulas\"\n",
    "\n",
    "with open(datasetPath+r'\\tweets_keywords.json', 'a', encoding='utf-8') as filename:\n",
    "    for tweet in tweets:\n",
    "        status = tweet\n",
    "        json_str = json.dumps(status._json)\n",
    "        parsed = json.loads(json_str)\n",
    "        json.dump(parsed, filename, ensure_ascii=False, sort_keys=True, indent=4, separators=(',', ':'))"
   ]
  },
  {
   "cell_type": "markdown",
   "metadata": {},
   "source": [
    "#### Armazenar no MongoDB"
   ]
  },
  {
   "cell_type": "code",
   "execution_count": 28,
   "metadata": {},
   "outputs": [],
   "source": [
    "#Conexão ao banco de dados\n",
    "con = pymongo.MongoClient('localhost', 27017)\n",
    "\n",
    "#Seleciona o banco de dados\n",
    "db = con.twitterdb"
   ]
  },
  {
   "cell_type": "code",
   "execution_count": 29,
   "metadata": {},
   "outputs": [],
   "source": [
    "#Seleciona a coleção para armazenar os tweets\n",
    "collection = db.tweets_keywords"
   ]
  },
  {
   "cell_type": "code",
   "execution_count": 31,
   "metadata": {},
   "outputs": [
    {
     "name": "stderr",
     "output_type": "stream",
     "text": [
      "<ipython-input-31-d7fd65803842>:2: DeprecationWarning: count is deprecated. Use estimated_document_count or count_documents instead. Please note that $where must be replaced by $expr, $near must be replaced by $geoWithin with $center, and $nearSphere must be replaced by $geoWithin with $centerSphere\n",
      "  db.tweets_keywords.count()\n"
     ]
    },
    {
     "data": {
      "text/plain": [
       "0"
      ]
     },
     "execution_count": 31,
     "metadata": {},
     "output_type": "execute_result"
    }
   ],
   "source": [
    "#Lista a quantidade de tweets existentes na coleção\n",
    "db.tweets_keywords.count()\n",
    "\n",
    "#O aviso nos diz que devemos usar count_documents(), visto que count() foi descontinuado"
   ]
  },
  {
   "cell_type": "code",
   "execution_count": 32,
   "metadata": {},
   "outputs": [
    {
     "data": {
      "text/plain": [
       "0"
      ]
     },
     "execution_count": 32,
     "metadata": {},
     "output_type": "execute_result"
    }
   ],
   "source": [
    "#Lista a quantidade de tweets existentes na coleção\n",
    "db.tweets_keywords.count_documents({})"
   ]
  },
  {
   "cell_type": "code",
   "execution_count": 34,
   "metadata": {},
   "outputs": [],
   "source": [
    "i=0\n",
    "\n",
    "for tweet in tweets:\n",
    "    db.tweets_keywords.insert_one(tweet._json)\n",
    "    i+=1"
   ]
  },
  {
   "cell_type": "code",
   "execution_count": 35,
   "metadata": {},
   "outputs": [
    {
     "name": "stdout",
     "output_type": "stream",
     "text": [
      "Quantidade de tweets inseridos: 10\n"
     ]
    }
   ],
   "source": [
    "#Lista a quantidade de tweets inseridos\n",
    "print('Quantidade de tweets inseridos: %s' %i)"
   ]
  },
  {
   "cell_type": "code",
   "execution_count": 36,
   "metadata": {},
   "outputs": [
    {
     "data": {
      "text/plain": [
       "10"
      ]
     },
     "execution_count": 36,
     "metadata": {},
     "output_type": "execute_result"
    }
   ],
   "source": [
    "#Lista a quantidade de tweets existentes na coleção\n",
    "db.tweets_keywords.count_documents({})"
   ]
  }
 ],
 "metadata": {
  "kernelspec": {
   "display_name": "Python 3.8.3 64-bit ('caiov': virtualenv)",
   "language": "python",
   "name": "python38364bitcaiovvirtualenv295ca060cc914d599924dc889d47fa21"
  },
  "language_info": {
   "codemirror_mode": {
    "name": "ipython",
    "version": 3
   },
   "file_extension": ".py",
   "mimetype": "text/x-python",
   "name": "python",
   "nbconvert_exporter": "python",
   "pygments_lexer": "ipython3",
   "version": "3.8.5"
  }
 },
 "nbformat": 4,
 "nbformat_minor": 4
}
