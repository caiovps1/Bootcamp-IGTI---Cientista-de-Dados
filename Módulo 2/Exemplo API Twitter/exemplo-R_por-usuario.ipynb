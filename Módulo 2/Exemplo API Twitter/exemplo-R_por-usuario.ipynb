{
 "cells": [
  {
   "cell_type": "markdown",
   "metadata": {},
   "source": [
    "### Exemplo de utilização da API do Twitter\n",
    "### Busca por usuário"
   ]
  },
  {
   "cell_type": "code",
   "execution_count": 1,
   "metadata": {},
   "outputs": [
    {
     "name": "stderr",
     "output_type": "stream",
     "text": [
      "Warning message:\n",
      "\"package 'rtweet' was built under R version 3.6.3\""
     ]
    }
   ],
   "source": [
    "#Usa a API do Twitter. Foi instalado com\n",
    "#conda install -c conda-forge r-rtweet\n",
    "library(rtweet)"
   ]
  },
  {
   "cell_type": "code",
   "execution_count": 2,
   "metadata": {},
   "outputs": [],
   "source": [
    "app_name <- \"aula_igti\"\n",
    "api_key <- \"por chave aqui\"\n",
    "api_secret_key <- \"por chave aqui\"\n",
    "access_token <- \"por chave aqui\"\n",
    "access_token_secret <- \"por chave aqui\""
   ]
  },
  {
   "cell_type": "code",
   "execution_count": 3,
   "metadata": {},
   "outputs": [],
   "source": [
    "#Autenticação\n",
    "\n",
    "token <- create_token(\n",
    "  app = app_name,\n",
    "  consumer_key = api_key,\n",
    "  consumer_secret = api_secret_key,\n",
    "  access_token = access_token,\n",
    "  access_secret = access_token_secret)"
   ]
  },
  {
   "cell_type": "code",
   "execution_count": 4,
   "metadata": {},
   "outputs": [],
   "source": [
    "#Parâmetros de busca\n",
    "#No exemplo, a professora utilizou \"jairbolsonaro\"\n",
    "#Aqui, utilizarei \"realDonaldTrump\"\n",
    "\n",
    "screen_name <- \"realDonaldTrump\""
   ]
  },
  {
   "cell_type": "code",
   "execution_count": 5,
   "metadata": {},
   "outputs": [
    {
     "name": "stderr",
     "output_type": "stream",
     "text": [
      "Registered S3 method overwritten by 'openssl':\n",
      "  method      from\n",
      "  print.bytes Rcpp\n"
     ]
    }
   ],
   "source": [
    "#Buscando\n",
    "\n",
    "tweets <- get_timeline(screen_name, n=1000, include_rts=TRUE, exclude_replies=TRUE)\n",
    "\n",
    "#Com esse código, estamos buscando os 2000 últimos tweets da conta\n",
    "#'realDonaldTrump', incluindo retweets e excluindo respostas a outros\n",
    "#tweets."
   ]
  },
  {
   "cell_type": "code",
   "execution_count": 6,
   "metadata": {},
   "outputs": [],
   "source": [
    "#Salvando o vetor de tweets como csv e apenas o texto em TXT na codificação do português\n",
    "\n",
    "write_as_csv(tweets, \"tweets_trump\", fileEncoding=\"latin1//TRANSLIT\")"
   ]
  },
  {
   "cell_type": "code",
   "execution_count": 9,
   "metadata": {},
   "outputs": [
    {
     "name": "stderr",
     "output_type": "stream",
     "text": [
      "geom_path: Each group consists of only one observation. Do you need to adjust\n",
      "the group aesthetic?\n"
     ]
    },
    {
     "data": {
      "image/png": "[encoded data removed]",
      "text/plain": [
       "plot without title"
      ]
     },
     "metadata": {},
     "output_type": "display_data"
    }
   ],
   "source": [
    "#Plotando a série temporal dos tweets\n",
    "\n",
    "ts_plot(tweets, \"3 hours\") +\n",
    "    ggplot2::theme_minimal() +\n",
    "    ggplot2::theme(plot.title = ggplot2::element_text(face=\"bold\")) +\n",
    "    ggplot2::labs(\n",
    "        x=NULL, y=NULL,\n",
    "        title = \"Frequência de tweets da conta 'realDonaldTrump' nos últimos 9 dias\",\n",
    "        subtitle = \"Contagem de tweets agregados em intervalos de 3 horas\",\n",
    "        caption = \"\\nFonte: Dados coletados do Twitter com o pacote rtweet\"\n",
    "    )"
   ]
  },
  {
   "cell_type": "code",
   "execution_count": null,
   "metadata": {},
   "outputs": [],
   "source": []
  }
 ],
 "metadata": {
  "kernelspec": {
   "display_name": "R",
   "language": "R",
   "name": "ir"
  },
  "language_info": {
   "codemirror_mode": "r",
   "file_extension": ".r",
   "mimetype": "text/x-r-source",
   "name": "R",
   "pygments_lexer": "r",
   "version": "3.6.1"
  }
 },
 "nbformat": 4,
 "nbformat_minor": 4
}
