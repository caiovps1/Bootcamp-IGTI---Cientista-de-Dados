{
 "cells": [
  {
   "cell_type": "markdown",
   "metadata": {},
   "source": [
    "### Exemplo de utilização da API do Twitter\n",
    "### Busca por *hashtags*"
   ]
  },
  {
   "cell_type": "code",
   "execution_count": 5,
   "metadata": {},
   "outputs": [],
   "source": [
    "#Usa a API do Twitter. Foi instalado com\n",
    "#conda install -c conda-forge r-rtweet\n",
    "library(rtweet)\n",
    "library(maps)"
   ]
  },
  {
   "cell_type": "code",
   "execution_count": 6,
   "metadata": {},
   "outputs": [],
   "source": [
    "app_name <- \"aula_igti\"\n",
    "api_key <- \"por chave aqui\"\n",
    "api_secret_key <- \"por chave aqui\"\n",
    "access_token <- \"por chave aqui\"\n",
    "access_token_secret <- \"por chave aqui\""
   ]
  },
  {
   "cell_type": "code",
   "execution_count": 7,
   "metadata": {},
   "outputs": [],
   "source": [
    "#Autenticação\n",
    "\n",
    "token <- create_token(\n",
    "  app = app_name,\n",
    "  consumer_key = api_key,\n",
    "  consumer_secret = api_secret_key,\n",
    "  access_token = access_token,\n",
    "  access_secret = access_token_secret)"
   ]
  },
  {
   "cell_type": "code",
   "execution_count": 8,
   "metadata": {},
   "outputs": [],
   "source": [
    "#Parâmetros de busca\n",
    "\n",
    "\n",
    "search.string <- c(\"#coronavirus OR #covid OR #covid-19 OR #covid19\")\n",
    "type = \"mixed\" #\"mixed\", \"recent\" ou \"popular\""
   ]
  },
  {
   "cell_type": "code",
   "execution_count": 9,
   "metadata": {},
   "outputs": [
    {
     "name": "stderr",
     "output_type": "stream",
     "text": [
      "Registered S3 method overwritten by 'openssl':\n",
      "  method      from\n",
      "  print.bytes Rcpp\n"
     ]
    }
   ],
   "source": [
    "#Buscando\n",
    "\n",
    "tweets <- search_tweets(search.string, n=18000, lang=\"pt\", \n",
    "                        type = type, include_rts=FALSE, \n",
    "                        retryonratelimit=TRUE)\n",
    "#Com esse código, estamos buscando os 18000 últimos tweets contendo\n",
    "#as hashtags #coronavirus, #covid, #covid-19 ou #covid19, indicando \n",
    "#para continuarmos a busca depois do limite de 18000 tweets por 15 minutos\n",
    "#for atingido."
   ]
  },
  {
   "cell_type": "code",
   "execution_count": 10,
   "metadata": {},
   "outputs": [],
   "source": [
    "#Salvando o vetor de tweets como csv e apenas o texto em TXT na codificação do português\n",
    "\n",
    "write_as_csv(tweets, \"tweets_covid.csv\", fileEncoding=\"latin1//TRANSLIT\")\n",
    "write.table(tweets$text, \"tweets_covid.txt\", fileEncoding=\"latin1//TRANSLIT\")"
   ]
  },
  {
   "cell_type": "code",
   "execution_count": 12,
   "metadata": {},
   "outputs": [],
   "source": [
    "#Cria lat/lgn variáveis usando todos os tweets disponíveis\n",
    "tweets <- lat_lng(tweets)"
   ]
  },
  {
   "cell_type": "code",
   "execution_count": 16,
   "metadata": {},
   "outputs": [
    {
     "data": {
      "image/png": "[encoded data removed]",
      "text/plain": [
       "plot without title"
      ]
     },
     "metadata": {},
     "output_type": "display_data"
    }
   ],
   "source": [
    "#Plota o mapa do Brasil\n",
    "\n",
    "par(mar=c(0,0,0,0)) #Função par define ou ajusta os parâmetros de plotagem. Parâmetro mar ajusta as margens\n",
    "map(\"world\", \"brazil\", lwd=0.3, fill=T, col=\"grey95\")\n",
    "map(,,add=T)\n",
    "map.axes()\n",
    "map.scale(ratio=T, cex=0.3)\n",
    "abline(h=0, lty=2)\n",
    "map.cities(country=\"Brazil\", minpop = 2000000, pch=15, cex=0.9)\n",
    "\n",
    "#Adiciona os tweets ao mapa\n",
    "with(tweets, points(lng, lat, pch=20, cex=.75, col=rgb(0, .3, .7, .75)))"
   ]
  }
 ],
 "metadata": {
  "kernelspec": {
   "display_name": "R",
   "language": "R",
   "name": "ir"
  },
  "language_info": {
   "codemirror_mode": "r",
   "file_extension": ".r",
   "mimetype": "text/x-r-source",
   "name": "R",
   "pygments_lexer": "r",
   "version": "3.6.1"
  }
 },
 "nbformat": 4,
 "nbformat_minor": 4
}
